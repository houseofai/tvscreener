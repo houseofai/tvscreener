{
 "cells": [
  {
   "metadata": {
    "ExecuteTime": {
     "end_time": "2025-06-18T16:06:22.438438Z",
     "start_time": "2025-06-18T16:06:21.964385Z"
    }
   },
   "cell_type": "code",
   "source": [
    "import tvscreener as tvs\n",
    "from tvscreener import TimeInterval\n",
    "from tvscreener.field.stock import StockField\n",
    "from tvscreener.filter import FilterOperator\n",
    "from tvscreener import ExtraFilter\n",
    "from tvscreener.field import Exchange, SubMarket, SymbolType\n",
    "\n",
    "%load_ext autoreload\n",
    "%autoreload 2"
   ],
   "id": "345d45c2160677ac",
   "outputs": [],
   "execution_count": 1
  },
  {
   "cell_type": "markdown",
   "source": [
    "# Stock"
   ],
   "metadata": {
    "collapsed": false
   },
   "id": "6a564379ead09018"
  },
  {
   "cell_type": "markdown",
   "source": [
    "With the first example, we gather all the stocks with the default values.\n",
    "\n",
    "The default values match TradingView Screener: Market is 'USA', and it is sorted by market capitalization."
   ],
   "metadata": {
    "collapsed": false
   },
   "id": "3236fbba726de475"
  },
  {
   "cell_type": "code",
   "source": [
    "ss = tvs.StockScreener()\n",
    "df = ss.get()\n",
    "df.head(10)"
   ],
   "metadata": {
    "collapsed": false,
    "ExecuteTime": {
     "end_time": "2025-06-18T16:06:25.470373Z",
     "start_time": "2025-06-18T16:06:24.812998Z"
    }
   },
   "id": "e784d4685477f41b",
   "outputs": [
    {
     "data": {
      "text/plain": [
       "         Symbol   Name                  Description  All Time High  \\\n",
       "0   NASDAQ:MSFT   MSFT        Microsoft Corporation       480.6943   \n",
       "1   NASDAQ:NVDA   NVDA           NVIDIA Corporation       153.1300   \n",
       "2   NASDAQ:AAPL   AAPL                   Apple Inc.       260.1000   \n",
       "3   NASDAQ:AMZN   AMZN             Amazon.com, Inc.       242.5200   \n",
       "4   NASDAQ:GOOG   GOOG                Alphabet Inc.       208.7000   \n",
       "5  NASDAQ:GOOGL  GOOGL                Alphabet Inc.       207.0500   \n",
       "6   NASDAQ:META   META         Meta Platforms, Inc.       740.9100   \n",
       "7   NASDAQ:AVGO   AVGO                Broadcom Inc.       265.4300   \n",
       "8   NASDAQ:TSLA   TSLA                  Tesla, Inc.       488.5399   \n",
       "9    NYSE:BRK.B  BRK.B  Berkshire Hathaway Inc. New       542.0700   \n",
       "\n",
       "   All Time Low  All Time Performance  Aroon Down (14)  Aroon Up (14)  \\\n",
       "0      0.088543         492736.057312         0.000000      85.714286   \n",
       "1      0.033334         332161.338234         7.142857      85.714286   \n",
       "2      0.049107         153350.774457       100.000000      28.571429   \n",
       "3      0.065624         177316.840343         7.142857      64.285714   \n",
       "4     24.312350            525.734394        28.571429      64.285714   \n",
       "5      2.401327           6903.706035        21.428571      57.142857   \n",
       "6     17.550000           1564.803805         7.142857      64.285714   \n",
       "7      1.433000          15139.696970         7.142857      28.571429   \n",
       "8      0.998666          25784.665638        35.714286       0.000000   \n",
       "9     19.800000           1984.224138       100.000000       0.000000   \n",
       "\n",
       "   Average Day Range (14)  Average Directional Index (14)  ...  Reco. VWMA  \\\n",
       "0                5.189779                       45.864087  ...           1   \n",
       "1                3.212850                       37.665304  ...           1   \n",
       "2                3.788307                       19.772717  ...          -1   \n",
       "3                4.007271                       24.515021  ...           1   \n",
       "4                3.311471                       22.976133  ...           1   \n",
       "5                3.181236                       22.653120  ...           1   \n",
       "6               13.609621                       36.266420  ...           1   \n",
       "7                7.232836                       35.656287  ...           1   \n",
       "8               18.115150                       24.616390  ...           1   \n",
       "9                5.262607                       35.719873  ...          -1   \n",
       "\n",
       "   Prev. Awesome Oscillator  Prev. Commodity Channel Index (20)  \\\n",
       "0                 21.759879                          105.506506   \n",
       "1                 11.857704                           87.597722   \n",
       "2                 -4.488817                         -140.333854   \n",
       "3                 10.385870                           99.489245   \n",
       "4                  9.522363                           87.464086   \n",
       "5                  8.738656                           78.921630   \n",
       "6                 50.937703                           82.058720   \n",
       "7                 20.087703                           44.529914   \n",
       "8                  3.686715                          -55.966576   \n",
       "9                -16.975333                         -108.607844   \n",
       "\n",
       "   Prev. Momentum (10)  Prev. Negative Directional Indicator (14)  \\\n",
       "0                15.07                                  10.063494   \n",
       "1                 2.90                                  11.632515   \n",
       "2                -7.63                                  26.889941   \n",
       "3                 9.11                                  15.926542   \n",
       "4                 7.57                                  19.932505   \n",
       "5                 9.77                                  19.006586   \n",
       "6                30.38                                  13.684686   \n",
       "7                -7.48                                  18.090017   \n",
       "8               -27.92                                  33.613215   \n",
       "9               -14.35                                  34.143822   \n",
       "\n",
       "   Prev. Positive Directional Indicator (14)  \\\n",
       "0                                  31.094924   \n",
       "1                                  30.798695   \n",
       "2                                  13.948330   \n",
       "3                                  28.833666   \n",
       "4                                  30.671601   \n",
       "5                                  29.852947   \n",
       "6                                  33.209022   \n",
       "7                                  33.835540   \n",
       "8                                  21.088868   \n",
       "9                                  12.270897   \n",
       "\n",
       "   Prev. Relative Strength Index (14)  Prev. Relative Strength Index (7)  \\\n",
       "0                           72.131918                          70.995897   \n",
       "1                           64.622461                          62.086227   \n",
       "2                           40.581981                          34.283071   \n",
       "3                           61.980087                          61.881994   \n",
       "4                           61.322027                          63.441524   \n",
       "5                           59.962132                          59.934083   \n",
       "6                           65.242448                          62.898636   \n",
       "7                           60.116375                          52.704430   \n",
       "8                           48.517809                          43.971751   \n",
       "9                           34.221307                          28.491214   \n",
       "\n",
       "   Prev. Stochastic %D (14, 3, 3)  Prev. Stochastic %K (14, 3, 3)  \n",
       "0                       81.866439                       79.995681  \n",
       "1                       72.334064                       64.015252  \n",
       "2                       13.812558                       12.502896  \n",
       "3                       62.617586                       63.450911  \n",
       "4                       67.774705                       62.018813  \n",
       "5                       62.523899                       58.037433  \n",
       "6                       58.072056                       56.490425  \n",
       "7                       45.203176                       42.216486  \n",
       "8                       70.690176                       75.350197  \n",
       "9                       30.592274                       27.538907  \n",
       "\n",
       "[10 rows x 302 columns]"
      ],
      "text/html": [
       "<div>\n",
       "<style scoped>\n",
       "    .dataframe tbody tr th:only-of-type {\n",
       "        vertical-align: middle;\n",
       "    }\n",
       "\n",
       "    .dataframe tbody tr th {\n",
       "        vertical-align: top;\n",
       "    }\n",
       "\n",
       "    .dataframe thead th {\n",
       "        text-align: right;\n",
       "    }\n",
       "</style>\n",
       "<table border=\"1\" class=\"dataframe\">\n",
       "  <thead>\n",
       "    <tr style=\"text-align: right;\">\n",
       "      <th></th>\n",
       "      <th>Symbol</th>\n",
       "      <th>Name</th>\n",
       "      <th>Description</th>\n",
       "      <th>All Time High</th>\n",
       "      <th>All Time Low</th>\n",
       "      <th>All Time Performance</th>\n",
       "      <th>Aroon Down (14)</th>\n",
       "      <th>Aroon Up (14)</th>\n",
       "      <th>Average Day Range (14)</th>\n",
       "      <th>Average Directional Index (14)</th>\n",
       "      <th>...</th>\n",
       "      <th>Reco. VWMA</th>\n",
       "      <th>Prev. Awesome Oscillator</th>\n",
       "      <th>Prev. Commodity Channel Index (20)</th>\n",
       "      <th>Prev. Momentum (10)</th>\n",
       "      <th>Prev. Negative Directional Indicator (14)</th>\n",
       "      <th>Prev. Positive Directional Indicator (14)</th>\n",
       "      <th>Prev. Relative Strength Index (14)</th>\n",
       "      <th>Prev. Relative Strength Index (7)</th>\n",
       "      <th>Prev. Stochastic %D (14, 3, 3)</th>\n",
       "      <th>Prev. Stochastic %K (14, 3, 3)</th>\n",
       "    </tr>\n",
       "  </thead>\n",
       "  <tbody>\n",
       "    <tr>\n",
       "      <th>0</th>\n",
       "      <td>NASDAQ:MSFT</td>\n",
       "      <td>MSFT</td>\n",
       "      <td>Microsoft Corporation</td>\n",
       "      <td>480.6943</td>\n",
       "      <td>0.088543</td>\n",
       "      <td>492736.057312</td>\n",
       "      <td>0.000000</td>\n",
       "      <td>85.714286</td>\n",
       "      <td>5.189779</td>\n",
       "      <td>45.864087</td>\n",
       "      <td>...</td>\n",
       "      <td>1</td>\n",
       "      <td>21.759879</td>\n",
       "      <td>105.506506</td>\n",
       "      <td>15.07</td>\n",
       "      <td>10.063494</td>\n",
       "      <td>31.094924</td>\n",
       "      <td>72.131918</td>\n",
       "      <td>70.995897</td>\n",
       "      <td>81.866439</td>\n",
       "      <td>79.995681</td>\n",
       "    </tr>\n",
       "    <tr>\n",
       "      <th>1</th>\n",
       "      <td>NASDAQ:NVDA</td>\n",
       "      <td>NVDA</td>\n",
       "      <td>NVIDIA Corporation</td>\n",
       "      <td>153.1300</td>\n",
       "      <td>0.033334</td>\n",
       "      <td>332161.338234</td>\n",
       "      <td>7.142857</td>\n",
       "      <td>85.714286</td>\n",
       "      <td>3.212850</td>\n",
       "      <td>37.665304</td>\n",
       "      <td>...</td>\n",
       "      <td>1</td>\n",
       "      <td>11.857704</td>\n",
       "      <td>87.597722</td>\n",
       "      <td>2.90</td>\n",
       "      <td>11.632515</td>\n",
       "      <td>30.798695</td>\n",
       "      <td>64.622461</td>\n",
       "      <td>62.086227</td>\n",
       "      <td>72.334064</td>\n",
       "      <td>64.015252</td>\n",
       "    </tr>\n",
       "    <tr>\n",
       "      <th>2</th>\n",
       "      <td>NASDAQ:AAPL</td>\n",
       "      <td>AAPL</td>\n",
       "      <td>Apple Inc.</td>\n",
       "      <td>260.1000</td>\n",
       "      <td>0.049107</td>\n",
       "      <td>153350.774457</td>\n",
       "      <td>100.000000</td>\n",
       "      <td>28.571429</td>\n",
       "      <td>3.788307</td>\n",
       "      <td>19.772717</td>\n",
       "      <td>...</td>\n",
       "      <td>-1</td>\n",
       "      <td>-4.488817</td>\n",
       "      <td>-140.333854</td>\n",
       "      <td>-7.63</td>\n",
       "      <td>26.889941</td>\n",
       "      <td>13.948330</td>\n",
       "      <td>40.581981</td>\n",
       "      <td>34.283071</td>\n",
       "      <td>13.812558</td>\n",
       "      <td>12.502896</td>\n",
       "    </tr>\n",
       "    <tr>\n",
       "      <th>3</th>\n",
       "      <td>NASDAQ:AMZN</td>\n",
       "      <td>AMZN</td>\n",
       "      <td>Amazon.com, Inc.</td>\n",
       "      <td>242.5200</td>\n",
       "      <td>0.065624</td>\n",
       "      <td>177316.840343</td>\n",
       "      <td>7.142857</td>\n",
       "      <td>64.285714</td>\n",
       "      <td>4.007271</td>\n",
       "      <td>24.515021</td>\n",
       "      <td>...</td>\n",
       "      <td>1</td>\n",
       "      <td>10.385870</td>\n",
       "      <td>99.489245</td>\n",
       "      <td>9.11</td>\n",
       "      <td>15.926542</td>\n",
       "      <td>28.833666</td>\n",
       "      <td>61.980087</td>\n",
       "      <td>61.881994</td>\n",
       "      <td>62.617586</td>\n",
       "      <td>63.450911</td>\n",
       "    </tr>\n",
       "    <tr>\n",
       "      <th>4</th>\n",
       "      <td>NASDAQ:GOOG</td>\n",
       "      <td>GOOG</td>\n",
       "      <td>Alphabet Inc.</td>\n",
       "      <td>208.7000</td>\n",
       "      <td>24.312350</td>\n",
       "      <td>525.734394</td>\n",
       "      <td>28.571429</td>\n",
       "      <td>64.285714</td>\n",
       "      <td>3.311471</td>\n",
       "      <td>22.976133</td>\n",
       "      <td>...</td>\n",
       "      <td>1</td>\n",
       "      <td>9.522363</td>\n",
       "      <td>87.464086</td>\n",
       "      <td>7.57</td>\n",
       "      <td>19.932505</td>\n",
       "      <td>30.671601</td>\n",
       "      <td>61.322027</td>\n",
       "      <td>63.441524</td>\n",
       "      <td>67.774705</td>\n",
       "      <td>62.018813</td>\n",
       "    </tr>\n",
       "    <tr>\n",
       "      <th>5</th>\n",
       "      <td>NASDAQ:GOOGL</td>\n",
       "      <td>GOOGL</td>\n",
       "      <td>Alphabet Inc.</td>\n",
       "      <td>207.0500</td>\n",
       "      <td>2.401327</td>\n",
       "      <td>6903.706035</td>\n",
       "      <td>21.428571</td>\n",
       "      <td>57.142857</td>\n",
       "      <td>3.181236</td>\n",
       "      <td>22.653120</td>\n",
       "      <td>...</td>\n",
       "      <td>1</td>\n",
       "      <td>8.738656</td>\n",
       "      <td>78.921630</td>\n",
       "      <td>9.77</td>\n",
       "      <td>19.006586</td>\n",
       "      <td>29.852947</td>\n",
       "      <td>59.962132</td>\n",
       "      <td>59.934083</td>\n",
       "      <td>62.523899</td>\n",
       "      <td>58.037433</td>\n",
       "    </tr>\n",
       "    <tr>\n",
       "      <th>6</th>\n",
       "      <td>NASDAQ:META</td>\n",
       "      <td>META</td>\n",
       "      <td>Meta Platforms, Inc.</td>\n",
       "      <td>740.9100</td>\n",
       "      <td>17.550000</td>\n",
       "      <td>1564.803805</td>\n",
       "      <td>7.142857</td>\n",
       "      <td>64.285714</td>\n",
       "      <td>13.609621</td>\n",
       "      <td>36.266420</td>\n",
       "      <td>...</td>\n",
       "      <td>1</td>\n",
       "      <td>50.937703</td>\n",
       "      <td>82.058720</td>\n",
       "      <td>30.38</td>\n",
       "      <td>13.684686</td>\n",
       "      <td>33.209022</td>\n",
       "      <td>65.242448</td>\n",
       "      <td>62.898636</td>\n",
       "      <td>58.072056</td>\n",
       "      <td>56.490425</td>\n",
       "    </tr>\n",
       "    <tr>\n",
       "      <th>7</th>\n",
       "      <td>NASDAQ:AVGO</td>\n",
       "      <td>AVGO</td>\n",
       "      <td>Broadcom Inc.</td>\n",
       "      <td>265.4300</td>\n",
       "      <td>1.433000</td>\n",
       "      <td>15139.696970</td>\n",
       "      <td>7.142857</td>\n",
       "      <td>28.571429</td>\n",
       "      <td>7.232836</td>\n",
       "      <td>35.656287</td>\n",
       "      <td>...</td>\n",
       "      <td>1</td>\n",
       "      <td>20.087703</td>\n",
       "      <td>44.529914</td>\n",
       "      <td>-7.48</td>\n",
       "      <td>18.090017</td>\n",
       "      <td>33.835540</td>\n",
       "      <td>60.116375</td>\n",
       "      <td>52.704430</td>\n",
       "      <td>45.203176</td>\n",
       "      <td>42.216486</td>\n",
       "    </tr>\n",
       "    <tr>\n",
       "      <th>8</th>\n",
       "      <td>NASDAQ:TSLA</td>\n",
       "      <td>TSLA</td>\n",
       "      <td>Tesla, Inc.</td>\n",
       "      <td>488.5399</td>\n",
       "      <td>0.998666</td>\n",
       "      <td>25784.665638</td>\n",
       "      <td>35.714286</td>\n",
       "      <td>0.000000</td>\n",
       "      <td>18.115150</td>\n",
       "      <td>24.616390</td>\n",
       "      <td>...</td>\n",
       "      <td>1</td>\n",
       "      <td>3.686715</td>\n",
       "      <td>-55.966576</td>\n",
       "      <td>-27.92</td>\n",
       "      <td>33.613215</td>\n",
       "      <td>21.088868</td>\n",
       "      <td>48.517809</td>\n",
       "      <td>43.971751</td>\n",
       "      <td>70.690176</td>\n",
       "      <td>75.350197</td>\n",
       "    </tr>\n",
       "    <tr>\n",
       "      <th>9</th>\n",
       "      <td>NYSE:BRK.B</td>\n",
       "      <td>BRK.B</td>\n",
       "      <td>Berkshire Hathaway Inc. New</td>\n",
       "      <td>542.0700</td>\n",
       "      <td>19.800000</td>\n",
       "      <td>1984.224138</td>\n",
       "      <td>100.000000</td>\n",
       "      <td>0.000000</td>\n",
       "      <td>5.262607</td>\n",
       "      <td>35.719873</td>\n",
       "      <td>...</td>\n",
       "      <td>-1</td>\n",
       "      <td>-16.975333</td>\n",
       "      <td>-108.607844</td>\n",
       "      <td>-14.35</td>\n",
       "      <td>34.143822</td>\n",
       "      <td>12.270897</td>\n",
       "      <td>34.221307</td>\n",
       "      <td>28.491214</td>\n",
       "      <td>30.592274</td>\n",
       "      <td>27.538907</td>\n",
       "    </tr>\n",
       "  </tbody>\n",
       "</table>\n",
       "<p>10 rows × 302 columns</p>\n",
       "</div>"
      ]
     },
     "execution_count": 2,
     "metadata": {},
     "output_type": "execute_result"
    }
   ],
   "execution_count": 2
  },
  {
   "cell_type": "markdown",
   "source": [
    "## Time Interval\n",
    "\n",
    "TradingView Screener allows to filter by time interval. It has a limitation for free member to 1 Day and above.\n",
    "`tvscreener` allows to filter by any time interval."
   ],
   "metadata": {
    "collapsed": false
   },
   "id": "c726d044fff81381"
  },
  {
   "cell_type": "code",
   "source": [
    "ss = tvs.StockScreener()\n",
    "df = ss.get(TimeInterval.ONE_MINUTE)\n",
    "df.head(10)"
   ],
   "metadata": {
    "collapsed": false
   },
   "id": "b43d16de57ee391a",
   "outputs": [],
   "execution_count": null
  },
  {
   "cell_type": "markdown",
   "source": [
    "## Filters\n",
    "\n",
    "Filters helps reduce the amount of results returned by TradingView. You can filter using **fields**, and/or using **extra filters**.\n",
    "\n",
    "![title](img/stock-filters.png)"
   ],
   "metadata": {
    "collapsed": false
   },
   "id": "8e7b7bc92eff736b"
  },
  {
   "cell_type": "markdown",
   "source": [
    "#### Fields Filtering"
   ],
   "metadata": {
    "collapsed": false
   },
   "id": "428a3f0a1f99a747"
  },
  {
   "cell_type": "code",
   "source": [
    "ss = tvs.StockScreener()"
   ],
   "metadata": {
    "collapsed": false
   },
   "id": "3938fc2af76d082d",
   "outputs": [],
   "execution_count": null
  },
  {
   "metadata": {},
   "cell_type": "code",
   "source": [
    "# Filter by exchange\n",
    "ss.add_filter(StockField.EXCHANGE, FilterOperator.IN_RANGE, [Exchange.NYSE, Exchange.NASDAQ])"
   ],
   "id": "90d21016438619ac",
   "outputs": [],
   "execution_count": null
  },
  {
   "cell_type": "markdown",
   "source": [
    "As a general rule, if you pass an array as value, the field operator will be `IN_RANGE`. If you pass a single value, the field operator will be `EQUAL`.\n",
    "Internally, `tvscreener` will convert the field operator to the correct one."
   ],
   "metadata": {
    "collapsed": false
   },
   "id": "4066c86cb67671ee"
  },
  {
   "cell_type": "code",
   "source": [
    "# Filter operator automatic conversion example\n",
    "ss.add_filter(StockField.EXCHANGE, FilterOperator.EQUAL, Exchange.NYSE)\n",
    "# Filter operator will be converted to IN_RANGE\n",
    "ss.add_filter(StockField.EXCHANGE, FilterOperator.EQUAL, Exchange.NASDAQ) "
   ],
   "metadata": {
    "collapsed": false
   },
   "id": "4c768e89cc4841bd",
   "outputs": [],
   "execution_count": null
  },
  {
   "cell_type": "code",
   "source": [
    "# Filter by submarket\n",
    "ss.add_filter(StockField.SUBMARKET, FilterOperator.IN_RANGE, [SubMarket.OTCQB, SubMarket.PINK])\n",
    "\n",
    "# Filter by Volume\n",
    "ss.add_filter(StockField.VOLUME, FilterOperator.ABOVE_OR_EQUAL, 50000)\n",
    "\n",
    "# Filter by Basic EPS (TTM):\n",
    "ss.add_filter(StockField.BASIC_EPS_TTM, FilterOperator.BELOW, 10)\n",
    "\n",
    "# Exception for the field Symbol Type which requires extra internal controls\n",
    "ss.set_symbol_types(SymbolType.COMMON_STOCK, SymbolType.ETF)"
   ],
   "metadata": {
    "collapsed": false
   },
   "id": "7726c96aeabf261f",
   "outputs": [],
   "execution_count": null
  },
  {
   "cell_type": "markdown",
   "source": [
    "#### Extra Filters"
   ],
   "metadata": {
    "collapsed": false
   },
   "id": "9458f3ac53affbb1"
  },
  {
   "cell_type": "code",
   "source": [
    "# Filter by current trading day\n",
    "ss.add_filter(ExtraFilter.CURRENT_TRADING_DAY, FilterOperator.EQUAL, True)\n",
    "# Filter by primary listing\n",
    "ss.add_filter(ExtraFilter.PRIMARY, FilterOperator.EQUAL, True)"
   ],
   "metadata": {
    "collapsed": false
   },
   "id": "4f7607f354753b43",
   "outputs": [],
   "execution_count": null
  },
  {
   "cell_type": "markdown",
   "source": [
    "## Search\n",
    "\n",
    "![title](img/search.png)"
   ],
   "metadata": {
    "collapsed": false
   },
   "id": "97af5914a2079e91"
  },
  {
   "cell_type": "code",
   "source": [
    "# Search for stocks with name matching 'AA'\n",
    "ss = tvs.StockScreener()\n",
    "ss.search('AA')\n",
    "\n",
    "df = ss.get()\n",
    "df.head(10)"
   ],
   "metadata": {
    "collapsed": false
   },
   "id": "e9c208dd46c5856a",
   "outputs": [],
   "execution_count": null
  },
  {
   "cell_type": "markdown",
   "source": [
    "## Sort"
   ],
   "metadata": {
    "collapsed": false
   },
   "id": "f76cea0dc26145c3"
  },
  {
   "cell_type": "code",
   "source": [
    "# Sort by 'All-Time Low' descending\n",
    "ss = tvs.StockScreener()\n",
    "ss.sort_by(StockField.ALL_TIME_LOW, ascending=False)\n",
    "ss.get()"
   ],
   "metadata": {
    "collapsed": false
   },
   "id": "50bd8837a85856a0",
   "outputs": [],
   "execution_count": null
  },
  {
   "cell_type": "markdown",
   "source": [
    "## Technical Fields\n",
    "\n",
    "It could be useful to see the technical column name in place of the human-readable column name."
   ],
   "metadata": {
    "collapsed": false
   },
   "id": "e5ced632b4dd3f6b"
  },
  {
   "cell_type": "code",
   "source": [
    "ss = tvs.StockScreener()\n",
    "df = ss.get()\n",
    "# Set the technical columns along with the human-readable columns\n",
    "df.set_technical_columns()\n",
    "df.head(10)"
   ],
   "metadata": {
    "collapsed": false
   },
   "id": "40eb8e6743e99e39",
   "outputs": [],
   "execution_count": null
  },
  {
   "cell_type": "code",
   "source": [
    "# Or just the technical column names\n",
    "df.set_technical_columns(only=True)\n",
    "df.head(10)"
   ],
   "metadata": {
    "collapsed": false
   },
   "id": "65ee5fbcae73b3f5",
   "outputs": [],
   "execution_count": null
  },
  {
   "cell_type": "markdown",
   "source": [
    "## Get everything\n",
    "To get the entire universe of stocks, set the market to 'ALL' and the range to 1 Million (TradingView manages ~102k stocks)."
   ],
   "metadata": {
    "collapsed": false
   },
   "id": "db6274be3c2fa85d"
  },
  {
   "cell_type": "code",
   "source": [
    "raise Warning('This will take time to render and the dataframe will be huge (~235Mb).')"
   ],
   "metadata": {
    "collapsed": false
   },
   "id": "1e4d02294ef54294",
   "outputs": [],
   "execution_count": null
  },
  {
   "cell_type": "code",
   "source": [
    "ss = tvs.StockScreener()\n",
    "ss.set_markets(Market.ALL)\n",
    "ss.set_range(0, 10**6)\n",
    "df = ss.get()\n",
    "df.head(10)"
   ],
   "metadata": {
    "collapsed": false
   },
   "id": "2ce6848611e9d049",
   "outputs": [],
   "execution_count": null
  }
 ],
 "metadata": {
  "kernelspec": {
   "display_name": "Python 3",
   "language": "python",
   "name": "python3"
  },
  "language_info": {
   "codemirror_mode": {
    "name": "ipython",
    "version": 2
   },
   "file_extension": ".py",
   "mimetype": "text/x-python",
   "name": "python",
   "nbconvert_exporter": "python",
   "pygments_lexer": "ipython2",
   "version": "2.7.6"
  }
 },
 "nbformat": 4,
 "nbformat_minor": 5
}
