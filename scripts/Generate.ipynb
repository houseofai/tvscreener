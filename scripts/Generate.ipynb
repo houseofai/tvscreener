{
 "cells": [
  {
   "cell_type": "code",
   "execution_count": 1,
   "id": "initial_id",
   "metadata": {
    "collapsed": true,
    "ExecuteTime": {
     "end_time": "2023-08-08T09:09:20.755952003Z",
     "start_time": "2023-08-08T09:09:20.755639510Z"
    }
   },
   "outputs": [],
   "source": [
    "import json\n",
    "from generate import write, scrap_columns, generate_columns, fill_template\n",
    "\n",
    "%load_ext autoreload\n",
    "%autoreload 2"
   ]
  },
  {
   "cell_type": "code",
   "execution_count": 3,
   "outputs": [],
   "source": [
    "def save_columns(url, name):\n",
    "    selenium_columns = scrap_columns(url)\n",
    "    with open(f'{name}.json', 'w') as f:\n",
    "        json.dump(selenium_columns, f)\n",
    "        \n",
    "def generate_code_files(name):\n",
    "    with open(f'{name.lower()}.json') as f:\n",
    "        columns = json.load(f)\n",
    "    formatted_columns = generate_columns(columns)\n",
    "    template = fill_template(name, formatted_columns)\n",
    "    write(name.lower(), template)"
   ],
   "metadata": {
    "collapsed": false,
    "ExecuteTime": {
     "end_time": "2023-08-08T09:09:27.879269457Z",
     "start_time": "2023-08-08T09:09:27.872493388Z"
    }
   },
   "id": "d5fa1f7d53053c3e"
  },
  {
   "cell_type": "code",
   "execution_count": null,
   "outputs": [],
   "source": [
    "stock_url = \"https://www.tradingview.com/screener/\"\n",
    "save_columns(stock_url, 'stock')"
   ],
   "metadata": {
    "collapsed": false
   },
   "id": "54db65ab7c0ba6e6"
  },
  {
   "cell_type": "code",
   "execution_count": null,
   "outputs": [],
   "source": [
    "crypto_url = \"https://www.tradingview.com/crypto-screener/\"\n",
    "save_columns(crypto_url, 'crypto')"
   ],
   "metadata": {
    "collapsed": false
   },
   "id": "5842322bb724a00b"
  },
  {
   "cell_type": "code",
   "execution_count": null,
   "outputs": [],
   "source": [
    "forex_url = \"https://www.tradingview.com/forex-screener/\"\n",
    "save_columns(forex_url, 'forex')"
   ],
   "metadata": {
    "collapsed": false
   },
   "id": "25c9bfa6c3bd8da4"
  },
  {
   "cell_type": "code",
   "execution_count": null,
   "outputs": [],
   "source": [
    "etf_url = \"https://www.tradingview.com/etf-screener/\"\n",
    "save_columns(etf_url, 'etf')"
   ],
   "metadata": {
    "collapsed": false
   },
   "id": "462e7fa9db2bd99a"
  },
  {
   "cell_type": "code",
   "execution_count": 4,
   "outputs": [],
   "source": [
    "generate_code_files('Stock')"
   ],
   "metadata": {
    "collapsed": false,
    "ExecuteTime": {
     "end_time": "2023-08-08T09:09:30.637092897Z",
     "start_time": "2023-08-08T09:09:30.629107433Z"
    }
   },
   "id": "9f576a5a2aa8f757"
  },
  {
   "cell_type": "code",
   "execution_count": 5,
   "outputs": [
    {
     "name": "stdout",
     "output_type": "stream",
     "text": [
      "Column MoneyFlow not found in the interval columns\n",
      "Column Value.Traded not found in the interval columns\n"
     ]
    }
   ],
   "source": [
    "generate_code_files('Crypto')"
   ],
   "metadata": {
    "collapsed": false,
    "ExecuteTime": {
     "end_time": "2023-08-08T09:09:31.219942802Z",
     "start_time": "2023-08-08T09:09:31.212637210Z"
    }
   },
   "id": "933ca7d35da3c8cf"
  },
  {
   "cell_type": "code",
   "execution_count": 6,
   "outputs": [
    {
     "name": "stdout",
     "output_type": "stream",
     "text": [
      "Column MoneyFlow not found in the interval columns\n",
      "Column Value.Traded not found in the interval columns\n",
      "Column relative_volume_10d_calc not found in the interval columns\n",
      "Column volume not found in the interval columns\n"
     ]
    }
   ],
   "source": [
    "generate_code_files('Forex')"
   ],
   "metadata": {
    "collapsed": false,
    "ExecuteTime": {
     "end_time": "2023-08-08T09:09:31.683820525Z",
     "start_time": "2023-08-08T09:09:31.676674132Z"
    }
   },
   "id": "d70eeeff7c42494a"
  },
  {
   "cell_type": "code",
   "execution_count": null,
   "outputs": [],
   "source": [
    "common = [\"logoid\",\n",
    "    \"name\",\n",
    "    \"description\",\n",
    "    \"type\",\n",
    "    \"subtype\"]\n",
    "\n",
    "with open(f'main.json', 'w') as f:\n",
    "        json.dump({\"main\": common}, f)"
   ],
   "metadata": {
    "collapsed": false
   },
   "id": "23094b57d7f195da"
  }
 ],
 "metadata": {
  "kernelspec": {
   "display_name": "Python 3",
   "language": "python",
   "name": "python3"
  },
  "language_info": {
   "codemirror_mode": {
    "name": "ipython",
    "version": 2
   },
   "file_extension": ".py",
   "mimetype": "text/x-python",
   "name": "python",
   "nbconvert_exporter": "python",
   "pygments_lexer": "ipython2",
   "version": "2.7.6"
  }
 },
 "nbformat": 4,
 "nbformat_minor": 5
}
